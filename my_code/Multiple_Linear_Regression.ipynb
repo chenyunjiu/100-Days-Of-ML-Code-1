{
  "cells": [
    {
      "cell_type": "code",
      "source": [
        "#文件不能不能命名为中文？否则打不开文件\n",
        "import pandas as pd\n",
        "import numpy as np\n"
      ],
      "outputs": [],
      "execution_count": 1,
      "metadata": {
        "collapsed": false,
        "outputHidden": false,
        "inputHidden": false
      }
    },
    {
      "cell_type": "code",
      "source": [
        "#加载数据\n",
        "dataset = pd.read_csv('../datasets/50_Startups.csv')\n",
        "X = dataset.iloc[:,:-2].to_numpy()\n",
        "#类别数据\n",
        "X1 = dataset.iloc[:,3].to_numpy()\n",
        "Y = dataset.iloc[:, 4].to_numpy()\n",
        "print(\"部分数据X\")\n",
        "print(X[0:5,:])\n",
        "print(\"部分数据Y\")\n",
        "print(Y[0:5])"
      ],
      "outputs": [
        {
          "output_type": "stream",
          "name": "stdout",
          "text": [
            "部分数据X\n",
            "[[165349.2  136897.8  471784.1 ]\n",
            " [162597.7  151377.59 443898.53]\n",
            " [153441.51 101145.55 407934.54]\n",
            " [144372.41 118671.85 383199.62]\n",
            " [142107.34  91391.77 366168.42]]\n",
            "部分数据Y\n",
            "[192261.83 191792.06 191050.39 182901.99 166187.94]\n"
          ]
        }
      ],
      "execution_count": 2,
      "metadata": {
        "collapsed": false,
        "outputHidden": false,
        "inputHidden": false
      }
    },
    {
      "cell_type": "code",
      "source": [
        "#类别数据数字化\n",
        "#oneHotEncoder:热编码，虚拟变量，用于反映事物类型的数据(非数值数据)，且没有大小之分。如男女可表示为 10 、 01  红黄绿分别表示为 100 010 001 \n",
        "from sklearn.preprocessing import LabelEncoder, OneHotEncoder\n",
        "labelencoder = LabelEncoder()\n",
        "X1= labelencoder.fit_transform(X1[:])\n",
        "onehotencoder = OneHotEncoder()\n",
        "X1 = onehotencoder.fit_transform(X1.reshape(-1,1)).toarray()\n",
        "print(\"地区代码热编码：\")\n",
        "print(X1)"
      ],
      "outputs": [
        {
          "output_type": "stream",
          "name": "stdout",
          "text": [
            "地区代码热编码：\n",
            "[[0. 0. 1.]\n",
            " [1. 0. 0.]\n",
            " [0. 1. 0.]\n",
            " [0. 0. 1.]\n",
            " [0. 1. 0.]\n",
            " [0. 0. 1.]\n",
            " [1. 0. 0.]\n",
            " [0. 1. 0.]\n",
            " [0. 0. 1.]\n",
            " [1. 0. 0.]\n",
            " [0. 1. 0.]\n",
            " [1. 0. 0.]\n",
            " [0. 1. 0.]\n",
            " [1. 0. 0.]\n",
            " [0. 1. 0.]\n",
            " [0. 0. 1.]\n",
            " [1. 0. 0.]\n",
            " [0. 0. 1.]\n",
            " [0. 1. 0.]\n",
            " [0. 0. 1.]\n",
            " [1. 0. 0.]\n",
            " [0. 0. 1.]\n",
            " [0. 1. 0.]\n",
            " [0. 1. 0.]\n",
            " [0. 0. 1.]\n",
            " [1. 0. 0.]\n",
            " [0. 1. 0.]\n",
            " [0. 0. 1.]\n",
            " [0. 1. 0.]\n",
            " [0. 0. 1.]\n",
            " [0. 1. 0.]\n",
            " [0. 0. 1.]\n",
            " [1. 0. 0.]\n",
            " [0. 1. 0.]\n",
            " [1. 0. 0.]\n",
            " [0. 0. 1.]\n",
            " [0. 1. 0.]\n",
            " [1. 0. 0.]\n",
            " [0. 0. 1.]\n",
            " [1. 0. 0.]\n",
            " [1. 0. 0.]\n",
            " [0. 1. 0.]\n",
            " [1. 0. 0.]\n",
            " [0. 0. 1.]\n",
            " [1. 0. 0.]\n",
            " [0. 0. 1.]\n",
            " [0. 1. 0.]\n",
            " [1. 0. 0.]\n",
            " [0. 0. 1.]\n",
            " [1. 0. 0.]]\n"
          ]
        }
      ],
      "execution_count": 3,
      "metadata": {
        "collapsed": false,
        "outputHidden": false,
        "inputHidden": false
      }
    },
    {
      "cell_type": "code",
      "source": [
        "#特征合并\n",
        "X = np.concatenate((X,X1),axis=1)\n",
        "#躲避虚拟变量陷阱：通过前两个变量我就能预测到第三个变量，如我知道前两个为 0 1 则下一个虚拟变量一定为0\n",
        "X = X[:,:-1]\n",
        "#X = X.astype(np.float32)\n",
        "#Y = Y.astype(np.float32)\n",
        "print(\"部分数据X\")\n",
        "print(X[0:5,:])\n",
        "print(\"部分数据Y\")\n",
        "print(Y[0:5])"
      ],
      "outputs": [
        {
          "output_type": "stream",
          "name": "stdout",
          "text": [
            "部分数据X\n",
            "[[1.6534920e+05 1.3689780e+05 4.7178410e+05 0.0000000e+00 0.0000000e+00]\n",
            " [1.6259770e+05 1.5137759e+05 4.4389853e+05 1.0000000e+00 0.0000000e+00]\n",
            " [1.5344151e+05 1.0114555e+05 4.0793454e+05 0.0000000e+00 1.0000000e+00]\n",
            " [1.4437241e+05 1.1867185e+05 3.8319962e+05 0.0000000e+00 0.0000000e+00]\n",
            " [1.4210734e+05 9.1391770e+04 3.6616842e+05 0.0000000e+00 1.0000000e+00]]\n",
            "部分数据Y\n",
            "[192261.83 191792.06 191050.39 182901.99 166187.94]\n"
          ]
        }
      ],
      "execution_count": 4,
      "metadata": {
        "collapsed": false,
        "outputHidden": false,
        "inputHidden": false
      }
    },
    {
      "cell_type": "code",
      "source": [
        "#拆分数据集和测试集\n",
        "from sklearn.model_selection import train_test_split\n",
        "X_train,X_test,Y_train,Y_test = train_test_split(X,Y,test_size=0.2,random_state=0)"
      ],
      "outputs": [],
      "execution_count": 5,
      "metadata": {
        "collapsed": false,
        "outputHidden": false,
        "inputHidden": false
      }
    },
    {
      "cell_type": "code",
      "source": [
        "#训练模型\n",
        "from sklearn.linear_model import LinearRegression\n",
        "regressor = LinearRegression(normalize=True)\n",
        "regressor.fit(X_train,Y_train)"
      ],
      "outputs": [
        {
          "output_type": "execute_result",
          "execution_count": 6,
          "data": {
            "text/plain": [
              "LinearRegression(copy_X=True, fit_intercept=True, n_jobs=None, normalize=True)"
            ]
          },
          "metadata": {}
        }
      ],
      "execution_count": 6,
      "metadata": {
        "collapsed": false,
        "outputHidden": false,
        "inputHidden": false
      }
    },
    {
      "cell_type": "code",
      "source": [
        "#预测结果\n",
        "y_pred = regressor.predict(X_test)"
      ],
      "outputs": [],
      "execution_count": 7,
      "metadata": {
        "collapsed": false,
        "outputHidden": false,
        "inputHidden": false
      }
    },
    {
      "cell_type": "code",
      "source": [
        "#评估结果\n",
        "from sklearn.metrics import mean_absolute_error\n",
        "mean_absolute_error(Y_test,y_pred)"
      ],
      "outputs": [
        {
          "output_type": "execute_result",
          "execution_count": 8,
          "data": {
            "text/plain": [
              "7514.293659640612"
            ]
          },
          "metadata": {}
        }
      ],
      "execution_count": 8,
      "metadata": {
        "collapsed": false,
        "outputHidden": false,
        "inputHidden": false
      }
    },
    {
      "cell_type": "code",
      "source": [
        "regressor.coef_"
      ],
      "outputs": [
        {
          "output_type": "execute_result",
          "execution_count": 9,
          "data": {
            "text/plain": [
              "array([ 7.73467193e-01,  3.28845975e-02,  3.66100259e-02, -6.99369053e+02,\n",
              "       -1.65865321e+03])"
            ]
          },
          "metadata": {}
        }
      ],
      "execution_count": 9,
      "metadata": {
        "collapsed": false,
        "outputHidden": false,
        "inputHidden": false
      }
    }
  ],
  "metadata": {
    "kernel_info": {
      "name": "machginelearning"
    },
    "language_info": {
      "name": "python",
      "version": "3.7.6",
      "mimetype": "text/x-python",
      "codemirror_mode": {
        "name": "ipython",
        "version": 3
      },
      "pygments_lexer": "ipython3",
      "nbconvert_exporter": "python",
      "file_extension": ".py"
    },
    "kernelspec": {
      "name": "machginelearning",
      "language": "python",
      "display_name": "“MachineLearning”"
    },
    "nteract": {
      "version": "0.15.0"
    }
  },
  "nbformat": 4,
  "nbformat_minor": 0
}