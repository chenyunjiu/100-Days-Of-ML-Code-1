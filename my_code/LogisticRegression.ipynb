{
  "cells": [
    {
      "cell_type": "code",
      "source": [
        "import pandas as pd\n",
        "import numpy as np"
      ],
      "outputs": [],
      "execution_count": 1,
      "metadata": {
        "collapsed": false,
        "outputHidden": false,
        "inputHidden": false
      }
    },
    {
      "cell_type": "code",
      "source": [
        "\n",
        "dataset = pd.read_csv('../datasets/Social_Network_Ads.csv')\n",
        "X = dataset.iloc[:,[2,3]].to_numpy().astype('float32')\n",
        "Y = dataset.iloc[:,[4]].to_numpy().astype('float32')"
      ],
      "outputs": [],
      "execution_count": 2,
      "metadata": {
        "collapsed": false,
        "outputHidden": false,
        "inputHidden": false
      }
    },
    {
      "cell_type": "code",
      "source": [
        "print(X.dtype)"
      ],
      "outputs": [
        {
          "output_type": "stream",
          "name": "stdout",
          "text": [
            "float32\n"
          ]
        }
      ],
      "execution_count": 3,
      "metadata": {
        "collapsed": false,
        "outputHidden": false,
        "inputHidden": false
      }
    },
    {
      "cell_type": "code",
      "source": [
        "#拆分数据集\n",
        "from sklearn.model_selection import train_test_split\n",
        "X_train,X_test,Y_train,Y_test = train_test_split(X, Y, test_size = 0.25)\n",
        "\n",
        "print(\"原始训练数据：\")\n",
        "print(X_train[0:3,:])\n",
        "print(\"\\nLable：\")\n",
        "print(Y_train[0:3])"
      ],
      "outputs": [
        {
          "output_type": "stream",
          "name": "stdout",
          "text": [
            "原始训练数据：\n",
            "[[3.30e+01 3.10e+04]\n",
            " [5.20e+01 1.38e+05]\n",
            " [2.20e+01 6.30e+04]]\n",
            "\n",
            "Lable：\n",
            "[[0.]\n",
            " [1.]\n",
            " [0.]]\n"
          ]
        }
      ],
      "execution_count": 4,
      "metadata": {
        "collapsed": false,
        "outputHidden": false,
        "inputHidden": false
      }
    },
    {
      "cell_type": "code",
      "source": [
        "#对性别label标签 编码\n",
        "#from sklearn.preprocessing import OneHotEncoder,LabelEncoder\n",
        "#X_lable_train = LabelEncoder().fit_transform(X_train[:,[0]].ravel())\n",
        "#X_lable_test = LabelEncoder().fit_transform(X_test[:,[0]].ravel())"
      ],
      "outputs": [],
      "execution_count": 5,
      "metadata": {
        "collapsed": false,
        "outputHidden": false,
        "inputHidden": false
      }
    },
    {
      "cell_type": "code",
      "source": [
        "#热编码 因为标签编码（0 1 2 3）是带距离的，容易误导机器学习。变成欧式距离相同的\n",
        "#0 0 0 1 \n",
        "#0 0 1 0\n",
        "#0 1 0 0\n",
        "#1 0 0 0\n",
        "#onehotencoder = OneHotEncoder()\n",
        "#X2_train = onehotencoder.fit_transform(X_lable_train.reshape(-1,1)).toarray()\n",
        "#X2_test = onehotencoder.fit_transform(X_lable_test.reshape(-1,1)).toarray()\n",
        "\n",
        "#X_train[:,[0]] = X2_train[:,[0]]\n",
        "#X_test[:,[0]] = X2_test[:,[0]]"
      ],
      "outputs": [],
      "execution_count": 6,
      "metadata": {
        "collapsed": false,
        "outputHidden": false,
        "inputHidden": false
      }
    },
    {
      "cell_type": "code",
      "source": [
        "#标准化 \n",
        "from sklearn.preprocessing import StandardScaler,scale\n",
        "#每个特征独立缩放\n",
        "SS1_train = StandardScaler().fit_transform(X_train[:,:])\n",
        "SS1_test = StandardScaler().fit_transform(X_test[:,:])\n",
        "\n",
        "#所有特征一起缩放 测试结果：错误率35/100 > 15/100\n",
        "#SS2_train = StandardScaler().fit_transform(X_train[:,[1,2]].reshape(X_train[:,[1,2]].size,1))\n",
        "#SS2_test = StandardScaler().fit_transform(X_test[:,[1,2]].reshape(X_test[:,[1,2]].size,1))\n",
        "#X_train[:,[1,2]] = SS2_train.reshape((int)(SS2_train.size/2),2)\n",
        "#X_test[:,[1,2]] = SS1_test.reshape((int)(SS2_test.size/2),2)\n",
        "\n",
        "X_train[:,:] = SS1_train\n",
        "X_test[:,:] = SS1_test\n",
        "\n",
        "print(\"训练数据：\")\n",
        "print(X_train[0:10,:])\n",
        "print(\"\\nLable：\")\n",
        "print(Y_train[0:3])\n",
        "\n",
        "#X_test[:,[1,2]] = StandardScaler().fit_transform(X_test[:,[1,2]]reshape(1,1))"
      ],
      "outputs": [
        {
          "output_type": "stream",
          "name": "stdout",
          "text": [
            "训练数据：\n",
            "[[-0.4187123  -1.1664327 ]\n",
            " [ 1.4458658   1.952995  ]\n",
            " [-1.4982047  -0.23351976]\n",
            " [-1.0075263   0.7285467 ]\n",
            " [-0.811255   -0.81659037]\n",
            " [ 1.4458658   0.5536255 ]\n",
            " [-1.3019334  -1.1372792 ]\n",
            " [-0.6149836   0.524472  ]\n",
            " [-1.3019334   0.524472  ]\n",
            " [-1.2037977   0.2329367 ]]\n",
            "\n",
            "Lable：\n",
            "[[0.]\n",
            " [1.]\n",
            " [0.]]\n"
          ]
        }
      ],
      "execution_count": 7,
      "metadata": {
        "collapsed": false,
        "outputHidden": false,
        "inputHidden": false
      }
    },
    {
      "cell_type": "code",
      "source": [
        "#训练模型\n",
        "from sklearn.linear_model import LogisticRegression\n",
        "classifier = LogisticRegression()\n",
        "classifier.fit(X_train,Y_train.ravel())"
      ],
      "outputs": [
        {
          "output_type": "execute_result",
          "execution_count": 8,
          "data": {
            "text/plain": [
              "LogisticRegression(C=1.0, class_weight=None, dual=False, fit_intercept=True,\n",
              "                   intercept_scaling=1, l1_ratio=None, max_iter=100,\n",
              "                   multi_class='auto', n_jobs=None, penalty='l2',\n",
              "                   random_state=None, solver='lbfgs', tol=0.0001, verbose=0,\n",
              "                   warm_start=False)"
            ]
          },
          "metadata": {}
        }
      ],
      "execution_count": 8,
      "metadata": {
        "collapsed": false,
        "outputHidden": false,
        "inputHidden": false
      }
    },
    {
      "cell_type": "code",
      "source": [
        "#预测模型 较好的预测\n",
        "y_pred = classifier.predict(X_test)\n",
        "print(y_pred[0:5])\n",
        "print(Y_test[0:5].ravel())"
      ],
      "outputs": [
        {
          "output_type": "stream",
          "name": "stdout",
          "text": [
            "[0. 0. 1. 1. 1.]\n",
            "[0. 0. 1. 1. 0.]\n"
          ]
        }
      ],
      "execution_count": 9,
      "metadata": {
        "collapsed": false,
        "outputHidden": false,
        "inputHidden": false
      }
    },
    {
      "cell_type": "code",
      "source": [
        "#生成混淆矩阵 2*2 衡量的是一个分类器分类的准确程度 \n",
        "# *1 *2\n",
        "# *3 *4  \n",
        "# *1:预测0 真实0 \n",
        "# *4:预测1 真实1\n",
        "# *2 *3:两类错误\n",
        "from sklearn.metrics import confusion_matrix\n",
        "cm = confusion_matrix(Y_test,y_pred)\n",
        "print(\"混淆矩阵：\")\n",
        "print(cm)"
      ],
      "outputs": [
        {
          "output_type": "stream",
          "name": "stdout",
          "text": [
            "混淆矩阵：\n",
            "[[56  6]\n",
            " [16 22]]\n"
          ]
        }
      ],
      "execution_count": 10,
      "metadata": {
        "collapsed": false,
        "outputHidden": false,
        "inputHidden": false
      }
    },
    {
      "cell_type": "code",
      "source": [
        "#可视化\n",
        "import matplotlib.pyplot as plt\n",
        "from matplotlib.colors import ListedColormap\n",
        "\n",
        "X_set,Y_set = X_train,Y_train\n",
        "#生成网格状的数据 判断年龄与收入对结果的影响\n",
        "X1, X2 = np.meshgrid(np.arange(start=X_set[:,0].min()-1, stop=X_set[:,0].max()+1, step = 0.01),\n",
        "                     np.arange(start=X_set[:,1].min()-1, stop=X_set[:,1].max()+1, step = 0.01))\n",
        "\n",
        "#生成一个测试矩阵\n",
        "X1_X2_test = np.array([X1.ravel(),X2.ravel()]).T\n",
        "#预测矩阵\n",
        "Y_PRED = classifier.predict(X1_X2_test).reshape(X1.shape)\n",
        "plt.contourf(X1,X2,Y_PRED, cmap=ListedColormap(('red', 'green')))\n",
        "\n",
        "\n",
        "\n",
        "\n",
        "#将原始数据投射到图上，直观的看出模型的准确性\n",
        "one_index_list=[]\n",
        "zero_index_list=[]\n",
        "\n",
        "for i in range( Y_set.size ):\n",
        "    one_index_list.append((Y_set==1)[i][0])\n",
        "    zero_index_list.append((Y_set==0)[i][0])\n",
        "    \n",
        "one_result = list( [X_set[one_index_list,0],X_set[one_index_list,1]])\n",
        "zero_result = list( [X_set[zero_index_list,0],X_set[zero_index_list,1]])\n",
        "\n",
        "plt.scatter(one_result[0],one_result[1], c = ListedColormap(('yellow', 'black'))(1), label=1)\n",
        "plt.scatter(zero_result[0],zero_result[1],c = ListedColormap(('yellow', 'black'))(0), label=0)\n",
        "\n",
        "plt.show()"
      ],
      "outputs": [
        {
          "output_type": "stream",
          "name": "stderr",
          "text": [
            "'c' argument looks like a single numeric RGB or RGBA sequence, which should be avoided as value-mapping will have precedence in case its length matches with 'x' & 'y'.  Please use a 2-D array with a single row if you really want to specify the same RGB or RGBA value for all points.\n",
            "'c' argument looks like a single numeric RGB or RGBA sequence, which should be avoided as value-mapping will have precedence in case its length matches with 'x' & 'y'.  Please use a 2-D array with a single row if you really want to specify the same RGB or RGBA value for all points.\n"
          ]
        },
        {
          "output_type": "display_data",
          "data": {
            "text/plain": [
              "<Figure size 432x288 with 1 Axes>"
            ],
            "image/png": "[encoded data removed]"
          },
          "metadata": {
            "needs_background": "light"
          }
        }
      ],
      "execution_count": 30,
      "metadata": {
        "collapsed": false,
        "outputHidden": false,
        "inputHidden": false
      }
    }
  ],
  "metadata": {
    "kernel_info": {
      "name": "machginelearning"
    },
    "language_info": {
      "name": "python",
      "version": "3.7.6",
      "mimetype": "text/x-python",
      "codemirror_mode": {
        "name": "ipython",
        "version": 3
      },
      "pygments_lexer": "ipython3",
      "nbconvert_exporter": "python",
      "file_extension": ".py"
    },
    "kernelspec": {
      "name": "machginelearning",
      "language": "python",
      "display_name": "“MachineLearning”"
    },
    "nteract": {
      "version": "0.15.0"
    }
  },
  "nbformat": 4,
  "nbformat_minor": 0
}